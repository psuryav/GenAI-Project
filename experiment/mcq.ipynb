{
 "cells": [
  {
   "cell_type": "code",
   "execution_count": 4,
   "metadata": {},
   "outputs": [],
   "source": [
    "import os\n",
    "import json\n",
    "import pandas as pd\n",
    "import traceback\n",
    "import langchain"
   ]
  },
  {
   "cell_type": "code",
   "execution_count": 9,
   "metadata": {},
   "outputs": [
    {
     "name": "stdout",
     "output_type": "stream",
     "text": [
      "Collecting langchain-community\n",
      "  Using cached langchain_community-0.3.13-py3-none-any.whl (2.5 MB)\n",
      "Requirement already satisfied: aiohttp<4.0.0,>=3.8.3 in c:\\users\\pankaj suryavanssi\\anaconda3\\lib\\site-packages (from langchain-community) (3.8.5)\n",
      "Requirement already satisfied: langchain<0.4.0,>=0.3.13 in c:\\users\\pankaj suryavanssi\\anaconda3\\lib\\site-packages (from langchain-community) (0.3.13)\n",
      "Collecting pydantic-settings<3.0.0,>=2.4.0\n",
      "  Using cached pydantic_settings-2.7.0-py3-none-any.whl (29 kB)\n",
      "Collecting dataclasses-json<0.7,>=0.5.7\n",
      "  Using cached dataclasses_json-0.6.7-py3-none-any.whl (28 kB)\n",
      "Requirement already satisfied: requests<3,>=2 in c:\\users\\pankaj suryavanssi\\anaconda3\\lib\\site-packages (from langchain-community) (2.28.1)\n",
      "Requirement already satisfied: PyYAML>=5.3 in c:\\users\\pankaj suryavanssi\\anaconda3\\lib\\site-packages (from langchain-community) (6.0)\n",
      "Requirement already satisfied: langsmith<0.3,>=0.1.125 in c:\\users\\pankaj suryavanssi\\anaconda3\\lib\\site-packages (from langchain-community) (0.2.7)\n",
      "Requirement already satisfied: SQLAlchemy<3,>=1.4 in c:\\users\\pankaj suryavanssi\\anaconda3\\lib\\site-packages (from langchain-community) (2.0.30)\n",
      "Requirement already satisfied: tenacity!=8.4.0,<10,>=8.1.0 in c:\\users\\pankaj suryavanssi\\anaconda3\\lib\\site-packages (from langchain-community) (8.3.0)\n",
      "Requirement already satisfied: langchain-core<0.4.0,>=0.3.27 in c:\\users\\pankaj suryavanssi\\anaconda3\\lib\\site-packages (from langchain-community) (0.3.28)\n",
      "Requirement already satisfied: numpy<2,>=1.22.4 in c:\\users\\pankaj suryavanssi\\anaconda3\\lib\\site-packages (from langchain-community) (1.23.5)\n",
      "Collecting httpx-sse<0.5.0,>=0.4.0\n",
      "  Using cached httpx_sse-0.4.0-py3-none-any.whl (7.8 kB)\n",
      "Requirement already satisfied: multidict<7.0,>=4.5 in c:\\users\\pankaj suryavanssi\\anaconda3\\lib\\site-packages (from aiohttp<4.0.0,>=3.8.3->langchain-community) (6.0.4)\n",
      "Requirement already satisfied: async-timeout<5.0,>=4.0.0a3 in c:\\users\\pankaj suryavanssi\\anaconda3\\lib\\site-packages (from aiohttp<4.0.0,>=3.8.3->langchain-community) (4.0.2)\n",
      "Requirement already satisfied: frozenlist>=1.1.1 in c:\\users\\pankaj suryavanssi\\anaconda3\\lib\\site-packages (from aiohttp<4.0.0,>=3.8.3->langchain-community) (1.4.0)\n",
      "Requirement already satisfied: attrs>=17.3.0 in c:\\users\\pankaj suryavanssi\\anaconda3\\lib\\site-packages (from aiohttp<4.0.0,>=3.8.3->langchain-community) (22.1.0)\n",
      "Requirement already satisfied: aiosignal>=1.1.2 in c:\\users\\pankaj suryavanssi\\anaconda3\\lib\\site-packages (from aiohttp<4.0.0,>=3.8.3->langchain-community) (1.3.1)\n",
      "Requirement already satisfied: yarl<2.0,>=1.0 in c:\\users\\pankaj suryavanssi\\anaconda3\\lib\\site-packages (from aiohttp<4.0.0,>=3.8.3->langchain-community) (1.9.2)\n",
      "Requirement already satisfied: charset-normalizer<4.0,>=2.0 in c:\\users\\pankaj suryavanssi\\anaconda3\\lib\\site-packages (from aiohttp<4.0.0,>=3.8.3->langchain-community) (2.0.4)\n",
      "Collecting typing-inspect<1,>=0.4.0\n",
      "  Using cached typing_inspect-0.9.0-py3-none-any.whl (8.8 kB)\n",
      "Collecting marshmallow<4.0.0,>=3.18.0\n",
      "  Using cached marshmallow-3.23.2-py3-none-any.whl (49 kB)\n",
      "Requirement already satisfied: pydantic<3.0.0,>=2.7.4 in c:\\users\\pankaj suryavanssi\\anaconda3\\lib\\site-packages (from langchain<0.4.0,>=0.3.13->langchain-community) (2.10.4)\n",
      "Requirement already satisfied: langchain-text-splitters<0.4.0,>=0.3.3 in c:\\users\\pankaj suryavanssi\\anaconda3\\lib\\site-packages (from langchain<0.4.0,>=0.3.13->langchain-community) (0.3.4)\n",
      "Requirement already satisfied: jsonpatch<2.0,>=1.33 in c:\\users\\pankaj suryavanssi\\anaconda3\\lib\\site-packages (from langchain-core<0.4.0,>=0.3.27->langchain-community) (1.33)\n",
      "Requirement already satisfied: packaging<25,>=23.2 in c:\\users\\pankaj suryavanssi\\anaconda3\\lib\\site-packages (from langchain-core<0.4.0,>=0.3.27->langchain-community) (23.2)\n",
      "Requirement already satisfied: typing-extensions>=4.7 in c:\\users\\pankaj suryavanssi\\anaconda3\\lib\\site-packages (from langchain-core<0.4.0,>=0.3.27->langchain-community) (4.12.2)\n",
      "Requirement already satisfied: httpx<1,>=0.23.0 in c:\\users\\pankaj suryavanssi\\anaconda3\\lib\\site-packages (from langsmith<0.3,>=0.1.125->langchain-community) (0.24.1)\n",
      "Requirement already satisfied: requests-toolbelt<2.0.0,>=1.0.0 in c:\\users\\pankaj suryavanssi\\anaconda3\\lib\\site-packages (from langsmith<0.3,>=0.1.125->langchain-community) (1.0.0)\n",
      "Requirement already satisfied: orjson<4.0.0,>=3.9.14 in c:\\users\\pankaj suryavanssi\\anaconda3\\lib\\site-packages (from langsmith<0.3,>=0.1.125->langchain-community) (3.10.3)\n",
      "Requirement already satisfied: python-dotenv>=0.21.0 in c:\\users\\pankaj suryavanssi\\anaconda3\\lib\\site-packages (from pydantic-settings<3.0.0,>=2.4.0->langchain-community) (1.0.1)\n",
      "Requirement already satisfied: certifi>=2017.4.17 in c:\\users\\pankaj suryavanssi\\anaconda3\\lib\\site-packages (from requests<3,>=2->langchain-community) (2022.12.7)\n",
      "Requirement already satisfied: urllib3<1.27,>=1.21.1 in c:\\users\\pankaj suryavanssi\\anaconda3\\lib\\site-packages (from requests<3,>=2->langchain-community) (1.26.14)\n",
      "Requirement already satisfied: idna<4,>=2.5 in c:\\users\\pankaj suryavanssi\\anaconda3\\lib\\site-packages (from requests<3,>=2->langchain-community) (3.4)\n",
      "Requirement already satisfied: greenlet!=0.4.17 in c:\\users\\pankaj suryavanssi\\anaconda3\\lib\\site-packages (from SQLAlchemy<3,>=1.4->langchain-community) (2.0.1)\n",
      "Requirement already satisfied: sniffio in c:\\users\\pankaj suryavanssi\\anaconda3\\lib\\site-packages (from httpx<1,>=0.23.0->langsmith<0.3,>=0.1.125->langchain-community) (1.2.0)\n",
      "Requirement already satisfied: httpcore<0.18.0,>=0.15.0 in c:\\users\\pankaj suryavanssi\\anaconda3\\lib\\site-packages (from httpx<1,>=0.23.0->langsmith<0.3,>=0.1.125->langchain-community) (0.17.3)\n",
      "Requirement already satisfied: jsonpointer>=1.9 in c:\\users\\pankaj suryavanssi\\anaconda3\\lib\\site-packages (from jsonpatch<2.0,>=1.33->langchain-core<0.4.0,>=0.3.27->langchain-community) (2.1)\n",
      "Requirement already satisfied: annotated-types>=0.6.0 in c:\\users\\pankaj suryavanssi\\anaconda3\\lib\\site-packages (from pydantic<3.0.0,>=2.7.4->langchain<0.4.0,>=0.3.13->langchain-community) (0.7.0)\n",
      "Requirement already satisfied: pydantic-core==2.27.2 in c:\\users\\pankaj suryavanssi\\anaconda3\\lib\\site-packages (from pydantic<3.0.0,>=2.7.4->langchain<0.4.0,>=0.3.13->langchain-community) (2.27.2)\n",
      "Requirement already satisfied: mypy-extensions>=0.3.0 in c:\\users\\pankaj suryavanssi\\anaconda3\\lib\\site-packages (from typing-inspect<1,>=0.4.0->dataclasses-json<0.7,>=0.5.7->langchain-community) (0.4.3)\n",
      "Requirement already satisfied: anyio<5.0,>=3.0 in c:\\users\\pankaj suryavanssi\\anaconda3\\lib\\site-packages (from httpcore<0.18.0,>=0.15.0->httpx<1,>=0.23.0->langsmith<0.3,>=0.1.125->langchain-community) (3.5.0)\n",
      "Requirement already satisfied: h11<0.15,>=0.13 in c:\\users\\pankaj suryavanssi\\anaconda3\\lib\\site-packages (from httpcore<0.18.0,>=0.15.0->httpx<1,>=0.23.0->langsmith<0.3,>=0.1.125->langchain-community) (0.14.0)\n",
      "Installing collected packages: typing-inspect, marshmallow, httpx-sse, dataclasses-json, pydantic-settings, langchain-community\n",
      "Successfully installed dataclasses-json-0.6.7 httpx-sse-0.4.0 langchain-community-0.3.13 marshmallow-3.23.2 pydantic-settings-2.7.0 typing-inspect-0.9.0\n",
      "Note: you may need to restart the kernel to use updated packages.\n"
     ]
    }
   ],
   "source": [
    "pip install langchain-community"
   ]
  },
  {
   "cell_type": "code",
   "execution_count": 6,
   "metadata": {},
   "outputs": [
    {
     "name": "stdout",
     "output_type": "stream",
     "text": [
      "Requirement already satisfied: langchain in c:\\users\\pankaj suryavanssi\\anaconda3\\lib\\site-packages (0.2.1)\n",
      "Collecting langchain\n",
      "  Using cached langchain-0.3.13-py3-none-any.whl (1.0 MB)\n",
      "Requirement already satisfied: tenacity!=8.4.0,<10,>=8.1.0 in c:\\users\\pankaj suryavanssi\\anaconda3\\lib\\site-packages (from langchain) (8.3.0)\n",
      "Requirement already satisfied: aiohttp<4.0.0,>=3.8.3 in c:\\users\\pankaj suryavanssi\\anaconda3\\lib\\site-packages (from langchain) (3.8.5)\n",
      "Collecting langchain-core<0.4.0,>=0.3.26\n",
      "  Using cached langchain_core-0.3.28-py3-none-any.whl (411 kB)\n",
      "Requirement already satisfied: langsmith<0.3,>=0.1.17 in c:\\users\\pankaj suryavanssi\\anaconda3\\lib\\site-packages (from langchain) (0.1.67)\n",
      "Collecting langchain-text-splitters<0.4.0,>=0.3.3\n",
      "  Using cached langchain_text_splitters-0.3.4-py3-none-any.whl (27 kB)\n",
      "Requirement already satisfied: numpy<2,>=1.22.4 in c:\\users\\pankaj suryavanssi\\anaconda3\\lib\\site-packages (from langchain) (1.23.5)\n",
      "Requirement already satisfied: SQLAlchemy<3,>=1.4 in c:\\users\\pankaj suryavanssi\\anaconda3\\lib\\site-packages (from langchain) (2.0.30)\n",
      "Requirement already satisfied: requests<3,>=2 in c:\\users\\pankaj suryavanssi\\anaconda3\\lib\\site-packages (from langchain) (2.28.1)\n",
      "Collecting pydantic<3.0.0,>=2.7.4\n",
      "  Using cached pydantic-2.10.4-py3-none-any.whl (431 kB)\n",
      "Requirement already satisfied: PyYAML>=5.3 in c:\\users\\pankaj suryavanssi\\anaconda3\\lib\\site-packages (from langchain) (6.0)\n",
      "Requirement already satisfied: async-timeout<5.0.0,>=4.0.0 in c:\\users\\pankaj suryavanssi\\anaconda3\\lib\\site-packages (from langchain) (4.0.2)\n",
      "Requirement already satisfied: yarl<2.0,>=1.0 in c:\\users\\pankaj suryavanssi\\anaconda3\\lib\\site-packages (from aiohttp<4.0.0,>=3.8.3->langchain) (1.9.2)\n",
      "Requirement already satisfied: aiosignal>=1.1.2 in c:\\users\\pankaj suryavanssi\\anaconda3\\lib\\site-packages (from aiohttp<4.0.0,>=3.8.3->langchain) (1.3.1)\n",
      "Requirement already satisfied: multidict<7.0,>=4.5 in c:\\users\\pankaj suryavanssi\\anaconda3\\lib\\site-packages (from aiohttp<4.0.0,>=3.8.3->langchain) (6.0.4)\n",
      "Requirement already satisfied: frozenlist>=1.1.1 in c:\\users\\pankaj suryavanssi\\anaconda3\\lib\\site-packages (from aiohttp<4.0.0,>=3.8.3->langchain) (1.4.0)\n",
      "Requirement already satisfied: charset-normalizer<4.0,>=2.0 in c:\\users\\pankaj suryavanssi\\anaconda3\\lib\\site-packages (from aiohttp<4.0.0,>=3.8.3->langchain) (2.0.4)\n",
      "Requirement already satisfied: attrs>=17.3.0 in c:\\users\\pankaj suryavanssi\\anaconda3\\lib\\site-packages (from aiohttp<4.0.0,>=3.8.3->langchain) (22.1.0)\n",
      "Collecting langsmith<0.3,>=0.1.17\n",
      "  Downloading langsmith-0.2.7-py3-none-any.whl (325 kB)\n",
      "     -------------------------------------- 325.7/325.7 kB 6.9 MB/s eta 0:00:00\n",
      "Requirement already satisfied: packaging<25,>=23.2 in c:\\users\\pankaj suryavanssi\\anaconda3\\lib\\site-packages (from langchain-core<0.4.0,>=0.3.26->langchain) (23.2)\n",
      "Requirement already satisfied: typing-extensions>=4.7 in c:\\users\\pankaj suryavanssi\\anaconda3\\lib\\site-packages (from langchain-core<0.4.0,>=0.3.26->langchain) (4.12.1)\n",
      "Requirement already satisfied: jsonpatch<2.0,>=1.33 in c:\\users\\pankaj suryavanssi\\anaconda3\\lib\\site-packages (from langchain-core<0.4.0,>=0.3.26->langchain) (1.33)\n",
      "Requirement already satisfied: orjson<4.0.0,>=3.9.14 in c:\\users\\pankaj suryavanssi\\anaconda3\\lib\\site-packages (from langsmith<0.3,>=0.1.17->langchain) (3.10.3)\n",
      "Collecting requests-toolbelt<2.0.0,>=1.0.0\n",
      "  Using cached requests_toolbelt-1.0.0-py2.py3-none-any.whl (54 kB)\n",
      "Requirement already satisfied: httpx<1,>=0.23.0 in c:\\users\\pankaj suryavanssi\\anaconda3\\lib\\site-packages (from langsmith<0.3,>=0.1.17->langchain) (0.24.1)\n",
      "Collecting pydantic-core==2.27.2\n",
      "  Using cached pydantic_core-2.27.2-cp310-cp310-win_amd64.whl (2.0 MB)\n",
      "Collecting typing-extensions>=4.7\n",
      "  Using cached typing_extensions-4.12.2-py3-none-any.whl (37 kB)\n",
      "Requirement already satisfied: annotated-types>=0.6.0 in c:\\users\\pankaj suryavanssi\\anaconda3\\lib\\site-packages (from pydantic<3.0.0,>=2.7.4->langchain) (0.7.0)\n",
      "Requirement already satisfied: certifi>=2017.4.17 in c:\\users\\pankaj suryavanssi\\anaconda3\\lib\\site-packages (from requests<3,>=2->langchain) (2022.12.7)\n",
      "Requirement already satisfied: urllib3<1.27,>=1.21.1 in c:\\users\\pankaj suryavanssi\\anaconda3\\lib\\site-packages (from requests<3,>=2->langchain) (1.26.14)\n",
      "Requirement already satisfied: idna<4,>=2.5 in c:\\users\\pankaj suryavanssi\\anaconda3\\lib\\site-packages (from requests<3,>=2->langchain) (3.4)\n",
      "Requirement already satisfied: greenlet!=0.4.17 in c:\\users\\pankaj suryavanssi\\anaconda3\\lib\\site-packages (from SQLAlchemy<3,>=1.4->langchain) (2.0.1)\n",
      "Requirement already satisfied: sniffio in c:\\users\\pankaj suryavanssi\\anaconda3\\lib\\site-packages (from httpx<1,>=0.23.0->langsmith<0.3,>=0.1.17->langchain) (1.2.0)\n",
      "Requirement already satisfied: httpcore<0.18.0,>=0.15.0 in c:\\users\\pankaj suryavanssi\\anaconda3\\lib\\site-packages (from httpx<1,>=0.23.0->langsmith<0.3,>=0.1.17->langchain) (0.17.3)\n",
      "Requirement already satisfied: jsonpointer>=1.9 in c:\\users\\pankaj suryavanssi\\anaconda3\\lib\\site-packages (from jsonpatch<2.0,>=1.33->langchain-core<0.4.0,>=0.3.26->langchain) (2.1)\n",
      "Requirement already satisfied: anyio<5.0,>=3.0 in c:\\users\\pankaj suryavanssi\\anaconda3\\lib\\site-packages (from httpcore<0.18.0,>=0.15.0->httpx<1,>=0.23.0->langsmith<0.3,>=0.1.17->langchain) (3.5.0)\n",
      "Requirement already satisfied: h11<0.15,>=0.13 in c:\\users\\pankaj suryavanssi\\anaconda3\\lib\\site-packages (from httpcore<0.18.0,>=0.15.0->httpx<1,>=0.23.0->langsmith<0.3,>=0.1.17->langchain) (0.14.0)\n",
      "Installing collected packages: typing-extensions, requests-toolbelt, pydantic-core, pydantic, langsmith, langchain-core, langchain-text-splitters, langchain\n",
      "  Attempting uninstall: typing-extensions\n",
      "    Found existing installation: typing_extensions 4.12.1\n",
      "    Uninstalling typing_extensions-4.12.1:\n",
      "      Successfully uninstalled typing_extensions-4.12.1\n",
      "  Attempting uninstall: requests-toolbelt\n",
      "    Found existing installation: requests-toolbelt 0.9.1\n",
      "    Uninstalling requests-toolbelt-0.9.1:\n",
      "      Successfully uninstalled requests-toolbelt-0.9.1\n",
      "  Attempting uninstall: pydantic-core\n",
      "    Found existing installation: pydantic_core 2.18.3\n",
      "    Uninstalling pydantic_core-2.18.3:\n",
      "      Successfully uninstalled pydantic_core-2.18.3\n",
      "  Attempting uninstall: pydantic\n",
      "    Found existing installation: pydantic 2.7.2\n",
      "    Uninstalling pydantic-2.7.2:\n",
      "      Successfully uninstalled pydantic-2.7.2\n",
      "  Attempting uninstall: langsmith\n",
      "    Found existing installation: langsmith 0.1.67\n",
      "    Uninstalling langsmith-0.1.67:\n",
      "      Successfully uninstalled langsmith-0.1.67\n",
      "  Attempting uninstall: langchain-core\n",
      "    Found existing installation: langchain-core 0.2.3\n",
      "    Uninstalling langchain-core-0.2.3:\n",
      "      Successfully uninstalled langchain-core-0.2.3\n",
      "  Attempting uninstall: langchain-text-splitters\n",
      "    Found existing installation: langchain-text-splitters 0.2.0\n",
      "    Uninstalling langchain-text-splitters-0.2.0:\n",
      "      Successfully uninstalled langchain-text-splitters-0.2.0\n",
      "  Attempting uninstall: langchain\n",
      "    Found existing installation: langchain 0.2.1\n",
      "    Uninstalling langchain-0.2.1:\n",
      "      Successfully uninstalled langchain-0.2.1\n",
      "Successfully installed langchain-0.3.13 langchain-core-0.3.28 langchain-text-splitters-0.3.4 langsmith-0.2.7 pydantic-2.10.4 pydantic-core-2.27.2 requests-toolbelt-1.0.0 typing-extensions-4.12.2\n",
      "Note: you may need to restart the kernel to use updated packages.\n"
     ]
    },
    {
     "name": "stderr",
     "output_type": "stream",
     "text": [
      "  WARNING: The script langsmith.exe is installed in 'c:\\Users\\Pankaj Suryavanssi\\Anaconda3\\Scripts' which is not on PATH.\n",
      "  Consider adding this directory to PATH or, if you prefer to suppress this warning, use --no-warn-script-location.\n",
      "  WARNING: The script langchain-server.exe is installed in 'c:\\Users\\Pankaj Suryavanssi\\Anaconda3\\Scripts' which is not on PATH.\n",
      "  Consider adding this directory to PATH or, if you prefer to suppress this warning, use --no-warn-script-location.\n"
     ]
    }
   ],
   "source": [
    "pip install --upgrade langchain"
   ]
  },
  {
   "cell_type": "code",
   "execution_count": 10,
   "metadata": {},
   "outputs": [],
   "source": [
    "from langchain.chat_models import ChatOpenAI"
   ]
  },
  {
   "cell_type": "code",
   "execution_count": 16,
   "metadata": {},
   "outputs": [
    {
     "data": {
      "text/plain": [
       "True"
      ]
     },
     "execution_count": 16,
     "metadata": {},
     "output_type": "execute_result"
    }
   ],
   "source": [
    "from dotenv import load_dotenv\n",
    "\n",
    "load_dotenv()  # take environment variables from .env."
   ]
  },
  {
   "cell_type": "code",
   "execution_count": 17,
   "metadata": {},
   "outputs": [],
   "source": [
    "KEY=os.getenv(\"OPEN_API_KEY\")"
   ]
  },
  {
   "cell_type": "code",
   "execution_count": 19,
   "metadata": {},
   "outputs": [
    {
     "name": "stderr",
     "output_type": "stream",
     "text": [
      "WARNING! temprature is not default parameter.\n",
      "                    temprature was transferred to model_kwargs.\n",
      "                    Please confirm that temprature is what you intended.\n"
     ]
    },
    {
     "name": "stdout",
     "output_type": "stream",
     "text": [
      "Unexpected exception formatting exception. Falling back to standard exception\n"
     ]
    },
    {
     "name": "stderr",
     "output_type": "stream",
     "text": [
      "Traceback (most recent call last):\n",
      "  File \"c:\\Users\\Pankaj Suryavanssi\\Anaconda3\\lib\\site-packages\\IPython\\core\\interactiveshell.py\", line 3460, in run_code\n",
      "    exec(code_obj, self.user_global_ns, self.user_ns)\n",
      "  File \"C:\\Users\\Pankaj Suryavanssi\\AppData\\Local\\Temp\\ipykernel_31524\\717789753.py\", line 1, in <module>\n",
      "    llm=ChatOpenAI(openai_api_key=KEY,model_name=\"gpt-3.5-turbo\",temprature=0.5)\n",
      "  File \"c:\\Users\\Pankaj Suryavanssi\\Anaconda3\\lib\\site-packages\\langchain_core\\_api\\deprecation.py\", line 183, in warn_if_direct_instance\n",
      "  File \"c:\\Users\\Pankaj Suryavanssi\\Anaconda3\\lib\\site-packages\\langchain_core\\load\\serializable.py\", line 125, in __init__\n",
      "    super().__init__(*args, **kwargs)\n",
      "  File \"c:\\Users\\Pankaj Suryavanssi\\Anaconda3\\lib\\site-packages\\pydantic\\main.py\", line 214, in __init__\n",
      "    validated_self = self.__pydantic_validator__.validate_python(data, self_instance=self)\n",
      "pydantic_core._pydantic_core.ValidationError: 1 validation error for ChatOpenAI\n",
      "callback_manager\n",
      "  Input should be an instance of BaseCallbackManager [type=is_instance_of, input_value=<function deprecated.<loc...r at 0x0000020D4CA8D5A0>, input_type=function]\n",
      "    For further information visit https://errors.pydantic.dev/2.10/v/is_instance_of\n",
      "\n",
      "During handling of the above exception, another exception occurred:\n",
      "\n",
      "Traceback (most recent call last):\n",
      "  File \"c:\\Users\\Pankaj Suryavanssi\\Anaconda3\\lib\\site-packages\\IPython\\core\\interactiveshell.py\", line 2057, in showtraceback\n",
      "    stb = self.InteractiveTB.structured_traceback(\n",
      "  File \"c:\\Users\\Pankaj Suryavanssi\\Anaconda3\\lib\\site-packages\\IPython\\core\\ultratb.py\", line 1118, in structured_traceback\n",
      "    return FormattedTB.structured_traceback(\n",
      "  File \"c:\\Users\\Pankaj Suryavanssi\\Anaconda3\\lib\\site-packages\\IPython\\core\\ultratb.py\", line 1012, in structured_traceback\n",
      "    return VerboseTB.structured_traceback(\n",
      "  File \"c:\\Users\\Pankaj Suryavanssi\\Anaconda3\\lib\\site-packages\\IPython\\core\\ultratb.py\", line 865, in structured_traceback\n",
      "    formatted_exception = self.format_exception_as_a_whole(etype, evalue, etb, number_of_lines_of_context,\n",
      "  File \"c:\\Users\\Pankaj Suryavanssi\\Anaconda3\\lib\\site-packages\\IPython\\core\\ultratb.py\", line 818, in format_exception_as_a_whole\n",
      "    frames.append(self.format_record(r))\n",
      "  File \"c:\\Users\\Pankaj Suryavanssi\\Anaconda3\\lib\\site-packages\\IPython\\core\\ultratb.py\", line 736, in format_record\n",
      "    result += ''.join(_format_traceback_lines(frame_info.lines, Colors, self.has_colors, lvals))\n",
      "  File \"c:\\Users\\Pankaj Suryavanssi\\Anaconda3\\lib\\site-packages\\stack_data\\utils.py\", line 145, in cached_property_wrapper\n",
      "    value = obj.__dict__[self.func.__name__] = self.func(obj)\n",
      "  File \"c:\\Users\\Pankaj Suryavanssi\\Anaconda3\\lib\\site-packages\\stack_data\\core.py\", line 698, in lines\n",
      "    pieces = self.included_pieces\n",
      "  File \"c:\\Users\\Pankaj Suryavanssi\\Anaconda3\\lib\\site-packages\\stack_data\\utils.py\", line 145, in cached_property_wrapper\n",
      "    value = obj.__dict__[self.func.__name__] = self.func(obj)\n",
      "  File \"c:\\Users\\Pankaj Suryavanssi\\Anaconda3\\lib\\site-packages\\stack_data\\core.py\", line 649, in included_pieces\n",
      "    pos = scope_pieces.index(self.executing_piece)\n",
      "  File \"c:\\Users\\Pankaj Suryavanssi\\Anaconda3\\lib\\site-packages\\stack_data\\utils.py\", line 145, in cached_property_wrapper\n",
      "    value = obj.__dict__[self.func.__name__] = self.func(obj)\n",
      "  File \"c:\\Users\\Pankaj Suryavanssi\\Anaconda3\\lib\\site-packages\\stack_data\\core.py\", line 628, in executing_piece\n",
      "    return only(\n",
      "  File \"c:\\Users\\Pankaj Suryavanssi\\Anaconda3\\lib\\site-packages\\executing\\executing.py\", line 164, in only\n",
      "    raise NotOneValueFound('Expected one value, found 0')\n",
      "executing.executing.NotOneValueFound: Expected one value, found 0\n"
     ]
    }
   ],
   "source": [
    "llm=ChatOpenAI(openai_api_key=KEY,model_name=\"gpt-3.5-turbo\",temprature=0.5)"
   ]
  }
 ],
 "metadata": {
  "kernelspec": {
   "display_name": "base",
   "language": "python",
   "name": "python3"
  },
  "language_info": {
   "codemirror_mode": {
    "name": "ipython",
    "version": 3
   },
   "file_extension": ".py",
   "mimetype": "text/x-python",
   "name": "python",
   "nbconvert_exporter": "python",
   "pygments_lexer": "ipython3",
   "version": "3.10.9"
  },
  "orig_nbformat": 4,
  "vscode": {
   "interpreter": {
    "hash": "a2fadb7c1683cac9d382339964bec914aea3d9ad7de9322b0cdb76dc988dc107"
   }
  }
 },
 "nbformat": 4,
 "nbformat_minor": 2
}
